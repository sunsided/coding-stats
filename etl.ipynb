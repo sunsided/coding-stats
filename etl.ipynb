{
 "cells": [
  {
   "cell_type": "code",
   "id": "initial_id",
   "metadata": {
    "collapsed": true,
    "ExecuteTime": {
     "end_time": "2025-10-25T08:39:18.091164Z",
     "start_time": "2025-10-25T08:39:17.642699Z"
    }
   },
   "source": [
    "import glob\n",
    "import os\n",
    "import json\n",
    "import pandas as pd\n",
    "\n",
    "from datetime import datetime\n",
    "from tqdm.notebook import tqdm\n",
    "from typing import *"
   ],
   "outputs": [],
   "execution_count": 1
  },
  {
   "cell_type": "code",
   "source": [
    "def extract_property_into_frame(data: Dict, prop_name: str) -> Optional[pd.DataFrame]:\n",
    "    data = pd.json_normalize(data, prop_name)\n",
    "    if len(data) == 0:\n",
    "        return None\n",
    "\n",
    "    data['type'] = prop_name\n",
    "    data.rename(columns={'name': 'value', 'total_seconds': 'total_seconds'}, inplace=True)\n",
    "    data.drop(columns=['digital', 'decimal', 'text', 'hours', 'minutes', 'seconds', 'percent'], inplace=True)\n",
    "    return data"
   ],
   "metadata": {
    "collapsed": false,
    "ExecuteTime": {
     "end_time": "2025-10-25T08:29:08.013531Z",
     "start_time": "2025-10-25T08:29:08.007634Z"
    }
   },
   "id": "903556db4966dfd1",
   "outputs": [],
   "execution_count": 2
  },
  {
   "cell_type": "code",
   "source": [
    "def read_jsons_into_df(directory: str) -> pd.DataFrame:\n",
    "    df_list = []\n",
    "\n",
    "    json_files = glob.glob(os.path.join(directory, '**/*.json'), recursive=True)\n",
    "    for file_path in tqdm(json_files):\n",
    "        with open(file_path, 'r') as f:\n",
    "            data = json.load(f)\n",
    "\n",
    "            try:\n",
    "                date = data.get('end', None)\n",
    "                date = datetime.strptime(date, \"%Y-%m-%dT%H:%M:%SZ\")\n",
    "                date = date.date()\n",
    "            except:\n",
    "                print(f'Failure in {file_path}')\n",
    "    \n",
    "            data = data.get('data', [{}])[0]\n",
    "            lang_data = extract_property_into_frame(data, 'languages')\n",
    "            if lang_data is not None:\n",
    "                lang_data['date'] = date\n",
    "                df_list.append(lang_data)\n",
    "    \n",
    "            editor_data = extract_property_into_frame(data, 'editors')\n",
    "            if editor_data is not None:\n",
    "                editor_data['date'] = date\n",
    "                df_list.append(editor_data)\n",
    "    \n",
    "            project_data = extract_property_into_frame(data, 'projects')\n",
    "            if project_data is not None:\n",
    "                project_data['date'] = date\n",
    "                df_list.append(project_data)\n",
    "\n",
    "    df = pd.concat(df_list, ignore_index=True)\n",
    "    df.drop(columns=['color'], inplace=True)\n",
    "\n",
    "    return df\n",
    "\n",
    "df = read_jsons_into_df('history')\n",
    "df"
   ],
   "metadata": {
    "collapsed": false,
    "ExecuteTime": {
     "end_time": "2025-10-25T08:29:34.777489Z",
     "start_time": "2025-10-25T08:29:08.084098Z"
    }
   },
   "id": "ecde62007d48a39",
   "outputs": [
    {
     "data": {
      "text/plain": [
       "  0%|          | 0/2468 [00:00<?, ?it/s]"
      ],
      "application/vnd.jupyter.widget-view+json": {
       "version_major": 2,
       "version_minor": 0,
       "model_id": "263688033a674ad0a89c3819023e323a"
      }
     },
     "metadata": {},
     "output_type": "display_data",
     "jetTransient": {
      "display_id": null
     }
    },
    {
     "data": {
      "text/plain": [
       "                        value  total_seconds       type        date\n",
       "0                        Rust       9091.801  languages  2021-09-01\n",
       "1                    Markdown        476.291  languages  2021-09-01\n",
       "2                       Other        400.559  languages  2021-09-01\n",
       "3                          C#        340.222  languages  2021-09-01\n",
       "4                        TOML        253.322  languages  2021-09-01\n",
       "...                       ...            ...        ...         ...\n",
       "18860                    JSON          0.002  languages  2022-12-31\n",
       "18861                   Rider      11755.267    editors  2022-12-31\n",
       "18862                   CLion         10.808    editors  2022-12-31\n",
       "18863  Nyris.ImageRecognition      11755.267   projects  2022-12-31\n",
       "18864                  kalman         10.808   projects  2022-12-31\n",
       "\n",
       "[18865 rows x 4 columns]"
      ],
      "text/html": [
       "<div>\n",
       "<style scoped>\n",
       "    .dataframe tbody tr th:only-of-type {\n",
       "        vertical-align: middle;\n",
       "    }\n",
       "\n",
       "    .dataframe tbody tr th {\n",
       "        vertical-align: top;\n",
       "    }\n",
       "\n",
       "    .dataframe thead th {\n",
       "        text-align: right;\n",
       "    }\n",
       "</style>\n",
       "<table border=\"1\" class=\"dataframe\">\n",
       "  <thead>\n",
       "    <tr style=\"text-align: right;\">\n",
       "      <th></th>\n",
       "      <th>value</th>\n",
       "      <th>total_seconds</th>\n",
       "      <th>type</th>\n",
       "      <th>date</th>\n",
       "    </tr>\n",
       "  </thead>\n",
       "  <tbody>\n",
       "    <tr>\n",
       "      <th>0</th>\n",
       "      <td>Rust</td>\n",
       "      <td>9091.801</td>\n",
       "      <td>languages</td>\n",
       "      <td>2021-09-01</td>\n",
       "    </tr>\n",
       "    <tr>\n",
       "      <th>1</th>\n",
       "      <td>Markdown</td>\n",
       "      <td>476.291</td>\n",
       "      <td>languages</td>\n",
       "      <td>2021-09-01</td>\n",
       "    </tr>\n",
       "    <tr>\n",
       "      <th>2</th>\n",
       "      <td>Other</td>\n",
       "      <td>400.559</td>\n",
       "      <td>languages</td>\n",
       "      <td>2021-09-01</td>\n",
       "    </tr>\n",
       "    <tr>\n",
       "      <th>3</th>\n",
       "      <td>C#</td>\n",
       "      <td>340.222</td>\n",
       "      <td>languages</td>\n",
       "      <td>2021-09-01</td>\n",
       "    </tr>\n",
       "    <tr>\n",
       "      <th>4</th>\n",
       "      <td>TOML</td>\n",
       "      <td>253.322</td>\n",
       "      <td>languages</td>\n",
       "      <td>2021-09-01</td>\n",
       "    </tr>\n",
       "    <tr>\n",
       "      <th>...</th>\n",
       "      <td>...</td>\n",
       "      <td>...</td>\n",
       "      <td>...</td>\n",
       "      <td>...</td>\n",
       "    </tr>\n",
       "    <tr>\n",
       "      <th>18860</th>\n",
       "      <td>JSON</td>\n",
       "      <td>0.002</td>\n",
       "      <td>languages</td>\n",
       "      <td>2022-12-31</td>\n",
       "    </tr>\n",
       "    <tr>\n",
       "      <th>18861</th>\n",
       "      <td>Rider</td>\n",
       "      <td>11755.267</td>\n",
       "      <td>editors</td>\n",
       "      <td>2022-12-31</td>\n",
       "    </tr>\n",
       "    <tr>\n",
       "      <th>18862</th>\n",
       "      <td>CLion</td>\n",
       "      <td>10.808</td>\n",
       "      <td>editors</td>\n",
       "      <td>2022-12-31</td>\n",
       "    </tr>\n",
       "    <tr>\n",
       "      <th>18863</th>\n",
       "      <td>Nyris.ImageRecognition</td>\n",
       "      <td>11755.267</td>\n",
       "      <td>projects</td>\n",
       "      <td>2022-12-31</td>\n",
       "    </tr>\n",
       "    <tr>\n",
       "      <th>18864</th>\n",
       "      <td>kalman</td>\n",
       "      <td>10.808</td>\n",
       "      <td>projects</td>\n",
       "      <td>2022-12-31</td>\n",
       "    </tr>\n",
       "  </tbody>\n",
       "</table>\n",
       "<p>18865 rows × 4 columns</p>\n",
       "</div>"
      ]
     },
     "execution_count": 3,
     "metadata": {},
     "output_type": "execute_result"
    }
   ],
   "execution_count": 3
  },
  {
   "cell_type": "code",
   "source": [
    "df.to_csv('summarized.csv')\n",
    "\n",
    "df[df.type == 'languages'].to_csv('redacted.csv')"
   ],
   "metadata": {
    "collapsed": false,
    "ExecuteTime": {
     "end_time": "2025-10-25T08:29:44.568696Z",
     "start_time": "2025-10-25T08:29:44.389102Z"
    }
   },
   "id": "6a82bb8f1ccbe91f",
   "outputs": [],
   "execution_count": 4
  }
 ],
 "metadata": {
  "kernelspec": {
   "display_name": "Python 3",
   "language": "python",
   "name": "python3"
  },
  "language_info": {
   "codemirror_mode": {
    "name": "ipython",
    "version": 2
   },
   "file_extension": ".py",
   "mimetype": "text/x-python",
   "name": "python",
   "nbconvert_exporter": "python",
   "pygments_lexer": "ipython2",
   "version": "2.7.6"
  }
 },
 "nbformat": 4,
 "nbformat_minor": 5
}
